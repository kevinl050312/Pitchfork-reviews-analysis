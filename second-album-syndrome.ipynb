{
 "cells": [
  {
   "cell_type": "markdown",
   "id": "db9730ab",
   "metadata": {
    "papermill": {
     "duration": 0.003426,
     "end_time": "2023-03-24T04:15:25.595048",
     "exception": false,
     "start_time": "2023-03-24T04:15:25.591622",
     "status": "completed"
    },
    "tags": []
   },
   "source": [
    "### Is the sophomore slump or second-album-syndrome real? \n",
    "More specifically, is such a phenomenon observable from the Pitchfork album reviews? I think this phenom often refers to the challenge an artist faces in creating/presenting their second body of work after an immensely popular first, so in this case we'll look at scores of first albums that won BNM and then compare with scores of the subsequent album.  \n",
    "It occurs to me that one might be interested in seeing if the second album is also awarded BNM; however, due to possible biases associated with awarding BNM to consecutive releases (seeing if this does happen could be interesting to pursue as well!), I'll stick to scores.\n"
   ]
  },
  {
   "cell_type": "code",
   "execution_count": 1,
   "id": "df8dcabc",
   "metadata": {
    "_cell_guid": "b1076dfc-b9ad-4769-8c92-a6c4dae69d19",
    "_uuid": "8f2839f25d086af736a60e9eeb907d3b93b6e0e5",
    "execution": {
     "iopub.execute_input": "2023-03-24T04:15:25.603180Z",
     "iopub.status.busy": "2023-03-24T04:15:25.601875Z",
     "iopub.status.idle": "2023-03-24T04:15:27.202227Z",
     "shell.execute_reply": "2023-03-24T04:15:27.200253Z"
    },
    "papermill": {
     "duration": 1.609466,
     "end_time": "2023-03-24T04:15:27.207184",
     "exception": false,
     "start_time": "2023-03-24T04:15:25.597718",
     "status": "completed"
    },
    "tags": []
   },
   "outputs": [
    {
     "name": "stdout",
     "output_type": "stream",
     "text": [
      "SQL database connected\n",
      "SQL database connection closed\n"
     ]
    }
   ],
   "source": [
    "import numpy as np\n",
    "import pandas as pd\n",
    "import matplotlib.pyplot as plt\n",
    "import seaborn as sns\n",
    "import sqlite3 as sql\n",
    "import os\n",
    "from scipy.signal import savgol_filter\n",
    "\n",
    "pd.set_option('precision', 2)\n",
    "np.set_printoptions(precision=2)\n",
    "\n",
    "plt.rcParams['axes.facecolor'] = '0.95'\n",
    "\n",
    "for dirname, _, filenames in os.walk('/kaggle/input'):\n",
    "    for filename in filenames:\n",
    "        db_path = os.path.join(dirname, filename)\n",
    "\n",
    "# connect to SQL database, create connection object to database\n",
    "connection = sql.connect(db_path)\n",
    "print(\"SQL database connected\")\n",
    "\n",
    "table = pd.read_sql(\"SELECT name FROM sqlite_master WHERE type='table'\", connection)\n",
    "\n",
    "reviews = pd.read_sql('SELECT * FROM reviews', connection)\n",
    "genres = pd.read_sql('SELECT * FROM genres', connection)\n",
    "connection.close()\n",
    "print('SQL database connection closed')"
   ]
  },
  {
   "cell_type": "markdown",
   "id": "5218ba4c",
   "metadata": {
    "papermill": {
     "duration": 0.002249,
     "end_time": "2023-03-24T04:15:27.212241",
     "exception": false,
     "start_time": "2023-03-24T04:15:27.209992",
     "status": "completed"
    },
    "tags": []
   },
   "source": [
    "First, let's quickly see how many first albums were given Best New Music, just to make sure the subset of the data is large enough to draw meaningful conclusions from."
   ]
  },
  {
   "cell_type": "code",
   "execution_count": 2,
   "id": "d5936f74",
   "metadata": {
    "execution": {
     "iopub.execute_input": "2023-03-24T04:15:27.219539Z",
     "iopub.status.busy": "2023-03-24T04:15:27.218598Z",
     "iopub.status.idle": "2023-03-24T04:15:33.699751Z",
     "shell.execute_reply": "2023-03-24T04:15:33.698334Z"
    },
    "papermill": {
     "duration": 6.488282,
     "end_time": "2023-03-24T04:15:33.702878",
     "exception": false,
     "start_time": "2023-03-24T04:15:27.214596",
     "status": "completed"
    },
    "tags": []
   },
   "outputs": [],
   "source": [
    "reviews_nlabeled = reviews.copy() # review dataframe, augmented with each review's 'number' i.e. its chronology in releasing artist's discography\n",
    "\n",
    "# add review number per artist\n",
    "for a, rows in reviews_nlabeled.groupby('artist'):\n",
    "    values = list(reversed(range(1, rows.shape[0]+1))) #\n",
    "    reviews_nlabeled.at[rows.index, 'number'] = values\n",
    "    \n",
    "reviews_nlabeled.number = reviews_nlabeled.number.astype(int)"
   ]
  },
  {
   "cell_type": "code",
   "execution_count": 3,
   "id": "b7d70ff3",
   "metadata": {
    "execution": {
     "iopub.execute_input": "2023-03-24T04:15:33.710676Z",
     "iopub.status.busy": "2023-03-24T04:15:33.709763Z",
     "iopub.status.idle": "2023-03-24T04:15:33.730814Z",
     "shell.execute_reply": "2023-03-24T04:15:33.728936Z"
    },
    "papermill": {
     "duration": 0.028163,
     "end_time": "2023-03-24T04:15:33.733881",
     "exception": false,
     "start_time": "2023-03-24T04:15:33.705718",
     "status": "completed"
    },
    "tags": []
   },
   "outputs": [
    {
     "name": "stdout",
     "output_type": "stream",
     "text": [
      "There are 292 first albums that were given Best New Music, and 187 second albums released by those artists.\n"
     ]
    }
   ],
   "source": [
    "first = reviews_nlabeled.loc[(reviews_nlabeled.best_new_music) & (reviews_nlabeled.number == 1)]    # first albums which are also bnm\n",
    "second = reviews_nlabeled.loc[(reviews_nlabeled.artist.isin(first.artist)) & (reviews_nlabeled.number == 2)]    # second albums from artists whose first albums were bnm\n",
    "\n",
    "print('There are ' + str(first.shape[0]) \n",
    "      + ' first albums that were given Best New Music, and ' \n",
    "      + str(second.shape[0]) + ' second albums released by those artists.')"
   ]
  },
  {
   "cell_type": "markdown",
   "id": "5e700351",
   "metadata": {
    "papermill": {
     "duration": 0.002365,
     "end_time": "2023-03-24T04:15:33.739041",
     "exception": false,
     "start_time": "2023-03-24T04:15:33.736676",
     "status": "completed"
    },
    "tags": []
   },
   "source": [
    "We're working with 292 first albums and 187 second albums, which is plenty!\n",
    "Next, we'll isolate scores for these 292 BNM first albums, then scores for the albums that immediately followed them. We'll compare the two score distributions for stastistically significant difference using the (?)"
   ]
  }
 ],
 "metadata": {
  "kernelspec": {
   "display_name": "Python 3",
   "language": "python",
   "name": "python3"
  },
  "language_info": {
   "codemirror_mode": {
    "name": "ipython",
    "version": 3
   },
   "file_extension": ".py",
   "mimetype": "text/x-python",
   "name": "python",
   "nbconvert_exporter": "python",
   "pygments_lexer": "ipython3",
   "version": "3.7.12"
  },
  "papermill": {
   "default_parameters": {},
   "duration": 20.059508,
   "end_time": "2023-03-24T04:15:34.564936",
   "environment_variables": {},
   "exception": null,
   "input_path": "__notebook__.ipynb",
   "output_path": "__notebook__.ipynb",
   "parameters": {},
   "start_time": "2023-03-24T04:15:14.505428",
   "version": "2.4.0"
  }
 },
 "nbformat": 4,
 "nbformat_minor": 5
}
