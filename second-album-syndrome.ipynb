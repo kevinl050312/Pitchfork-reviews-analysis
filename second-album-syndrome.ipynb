{
 "cells": [
  {
   "cell_type": "markdown",
   "id": "38d96327",
   "metadata": {
    "papermill": {
     "duration": 0.004422,
     "end_time": "2023-03-24T17:55:38.176387",
     "exception": false,
     "start_time": "2023-03-24T17:55:38.171965",
     "status": "completed"
    },
    "tags": []
   },
   "source": [
    "## Is the sophomore slump or second-album-syndrome real? \n",
    "### More specifically, is such a phenomenon observable from the Pitchfork album reviews?  \n",
    "I think this phenomenon often refers to the challenge an artist faces in creating/presenting their second body of work after an immensely popular first, so in this case we'll look at scores of first albums that won BNM and then compare with scores of the subsequent album.  \n",
    "It occurs to me that one might be interested in seeing if the second album is also awarded BNM; however, due to possible biases associated with awarding BNM to consecutive releases (seeing if this does happen could be interesting to pursue as well!), I'll stick to scores.\n"
   ]
  },
  {
   "cell_type": "code",
   "execution_count": 1,
   "id": "3b2d4bd4",
   "metadata": {
    "_cell_guid": "b1076dfc-b9ad-4769-8c92-a6c4dae69d19",
    "_uuid": "8f2839f25d086af736a60e9eeb907d3b93b6e0e5",
    "execution": {
     "iopub.execute_input": "2023-03-24T17:55:38.186063Z",
     "iopub.status.busy": "2023-03-24T17:55:38.185240Z",
     "iopub.status.idle": "2023-03-24T17:55:39.735833Z",
     "shell.execute_reply": "2023-03-24T17:55:39.733815Z"
    },
    "papermill": {
     "duration": 1.559878,
     "end_time": "2023-03-24T17:55:39.739926",
     "exception": false,
     "start_time": "2023-03-24T17:55:38.180048",
     "status": "completed"
    },
    "tags": []
   },
   "outputs": [
    {
     "name": "stdout",
     "output_type": "stream",
     "text": [
      "SQL database connected\n",
      "SQL database connection closed\n"
     ]
    }
   ],
   "source": [
    "import numpy as np\n",
    "import pandas as pd\n",
    "import matplotlib.pyplot as plt\n",
    "import seaborn as sns\n",
    "import sqlite3 as sql\n",
    "import os\n",
    "from scipy.signal import savgol_filter\n",
    "from scipy import stats\n",
    "\n",
    "pd.set_option('precision', 2)\n",
    "np.set_printoptions(precision=2)\n",
    "\n",
    "plt.rcParams['axes.facecolor'] = '0.95'\n",
    "\n",
    "for dirname, _, filenames in os.walk('/kaggle/input'):\n",
    "    for filename in filenames:\n",
    "        db_path = os.path.join(dirname, filename)\n",
    "\n",
    "# connect to SQL database, create connection object to database\n",
    "connection = sql.connect(db_path)\n",
    "print(\"SQL database connected\")\n",
    "\n",
    "table = pd.read_sql(\"SELECT name FROM sqlite_master WHERE type='table'\", connection)\n",
    "\n",
    "reviews = pd.read_sql('SELECT * FROM reviews', connection)\n",
    "genres = pd.read_sql('SELECT * FROM genres', connection)\n",
    "connection.close()\n",
    "print('SQL database connection closed')"
   ]
  },
  {
   "cell_type": "markdown",
   "id": "1fc5b509",
   "metadata": {
    "papermill": {
     "duration": 0.003386,
     "end_time": "2023-03-24T17:55:39.747219",
     "exception": false,
     "start_time": "2023-03-24T17:55:39.743833",
     "status": "completed"
    },
    "tags": []
   },
   "source": [
    "First, let's see how many first albums were given Best New Music, just to make sure the subset of the data is large enough to draw meaningful conclusions from."
   ]
  },
  {
   "cell_type": "code",
   "execution_count": 2,
   "id": "f7662162",
   "metadata": {
    "execution": {
     "iopub.execute_input": "2023-03-24T17:55:39.757394Z",
     "iopub.status.busy": "2023-03-24T17:55:39.755946Z",
     "iopub.status.idle": "2023-03-24T17:55:45.640742Z",
     "shell.execute_reply": "2023-03-24T17:55:45.639416Z"
    },
    "papermill": {
     "duration": 5.892752,
     "end_time": "2023-03-24T17:55:45.643660",
     "exception": false,
     "start_time": "2023-03-24T17:55:39.750908",
     "status": "completed"
    },
    "tags": []
   },
   "outputs": [],
   "source": [
    "reviews_nlabeled = reviews.copy() # review dataframe, augmented with each review's 'number' i.e. its chronology in releasing artist's discography\n",
    "\n",
    "# remove the 'various artists' artist, since they'll have a huge number of releases\n",
    "reviews_nlabeled = reviews_nlabeled[reviews_nlabeled.artist != 'various artists']\n",
    "\n",
    "# add review number per artist\n",
    "for a, rows in reviews_nlabeled.groupby('artist'):\n",
    "    values = list(reversed(range(1, rows.shape[0]+1)))\n",
    "    reviews_nlabeled.at[rows.index, 'number'] = values\n",
    "    \n",
    "reviews_nlabeled.number = reviews_nlabeled.number.astype(int)"
   ]
  },
  {
   "cell_type": "code",
   "execution_count": 3,
   "id": "73893fec",
   "metadata": {
    "execution": {
     "iopub.execute_input": "2023-03-24T17:55:45.653405Z",
     "iopub.status.busy": "2023-03-24T17:55:45.652424Z",
     "iopub.status.idle": "2023-03-24T17:55:45.673057Z",
     "shell.execute_reply": "2023-03-24T17:55:45.671522Z"
    },
    "papermill": {
     "duration": 0.029082,
     "end_time": "2023-03-24T17:55:45.676434",
     "exception": false,
     "start_time": "2023-03-24T17:55:45.647352",
     "status": "completed"
    },
    "tags": []
   },
   "outputs": [
    {
     "name": "stdout",
     "output_type": "stream",
     "text": [
      "There are 292 first albums that were given Best New Music, and 187 second albums released by those artists.\n"
     ]
    }
   ],
   "source": [
    "first = reviews_nlabeled.loc[(reviews_nlabeled.best_new_music) & (reviews_nlabeled.number == 1)]    # first albums which are bnm\n",
    "second = reviews_nlabeled.loc[(reviews_nlabeled.artist.isin(first.artist)) & (reviews_nlabeled.number == 2)]    # second albums from artists whose first albums were bnm\n",
    "\n",
    "print('There are ' + str(first.shape[0]) \n",
    "      + ' first albums that were given Best New Music, and ' \n",
    "      + str(second.shape[0]) + ' second albums released by those artists.')\n",
    "\n",
    "first = first.loc[first.artist.isin(second.artist)]"
   ]
  },
  {
   "cell_type": "markdown",
   "id": "17f95394",
   "metadata": {
    "papermill": {
     "duration": 0.003761,
     "end_time": "2023-03-24T17:55:45.684089",
     "exception": false,
     "start_time": "2023-03-24T17:55:45.680328",
     "status": "completed"
    },
    "tags": []
   },
   "source": [
    "We're working with 187 albums which follow BNM first albums, which is plenty!\n",
    "Next, we'll isolate scores for the BNM first albums, then scores for the albums that immediately followed them. We'll compare the two score distributions for statistically significant differences."
   ]
  },
  {
   "cell_type": "code",
   "execution_count": 4,
   "id": "19912aba",
   "metadata": {
    "execution": {
     "iopub.execute_input": "2023-03-24T17:55:45.693727Z",
     "iopub.status.busy": "2023-03-24T17:55:45.693290Z",
     "iopub.status.idle": "2023-03-24T17:55:45.730913Z",
     "shell.execute_reply": "2023-03-24T17:55:45.729874Z"
    },
    "papermill": {
     "duration": 0.045824,
     "end_time": "2023-03-24T17:55:45.733831",
     "exception": false,
     "start_time": "2023-03-24T17:55:45.688007",
     "status": "completed"
    },
    "tags": []
   },
   "outputs": [],
   "source": [
    "# pre-plotting data reshaping\n",
    "# line plot:\n",
    "temp_f = first.groupby(['score']).number\n",
    "f = temp_f.agg(['count']).reset_index()\n",
    "temp_s = second.groupby(['score']).number\n",
    "s = temp_s.agg(['count']).reset_index()\n",
    "f['count'] = savgol_filter(f['count'], 3, 1)\n",
    "s['count'] = savgol_filter(s['count'], 3, 1)\n",
    "\n",
    "# boxplot\n",
    "ids = list(first.reviewid) + list(second.reviewid)\n",
    "temp_b = reviews_nlabeled[reviews_nlabeled['reviewid'].isin(ids)]"
   ]
  },
  {
   "cell_type": "code",
   "execution_count": 5,
   "id": "3a49d4f3",
   "metadata": {
    "execution": {
     "iopub.execute_input": "2023-03-24T17:55:45.743966Z",
     "iopub.status.busy": "2023-03-24T17:55:45.743513Z",
     "iopub.status.idle": "2023-03-24T17:55:46.190187Z",
     "shell.execute_reply": "2023-03-24T17:55:46.189004Z"
    },
    "papermill": {
     "duration": 0.455122,
     "end_time": "2023-03-24T17:55:46.192743",
     "exception": false,
     "start_time": "2023-03-24T17:55:45.737621",
     "status": "completed"
    },
    "tags": []
   },
   "outputs": [
    {
     "data": {
      "image/png": "[encoded data removed]",
      "text/plain": [
       "<Figure size 900x600 with 2 Axes>"
      ]
     },
     "metadata": {},
     "output_type": "display_data"
    }
   ],
   "source": [
    "fig, ax = plt.subplots(2, figsize = (9,6))\n",
    "\n",
    "# line plot\n",
    "ax[0].plot(f['score'], f['count'], label = 'First BNM album') \n",
    "ax[0].plot(s['score'], s['count'], label = 'Second album') \n",
    "ax[0].legend(loc = 'best')\n",
    "ax[0].set(xlabel='score', ylabel='frequency')\n",
    "ax[0].grid()\n",
    "\n",
    "# boxplot\n",
    "sns.boxplot(data=temp_b, x='score', y='number', ax=ax[1], orient='h', fliersize=3)\n",
    "ax[1].set(ylabel='album number')\n",
    "ax[1].grid()"
   ]
  },
  {
   "cell_type": "markdown",
   "id": "74e55dfe",
   "metadata": {
    "papermill": {
     "duration": 0.003959,
     "end_time": "2023-03-24T17:55:46.201061",
     "exception": false,
     "start_time": "2023-03-24T17:55:46.197102",
     "status": "completed"
    },
    "tags": []
   },
   "source": [
    "From the above, we're seeing what could be a statistically significant difference between the two groups. In particular, the middle quartiles of the two groups don't overlap at all.  \n",
    "\n",
    "Revisiting the initial question: does winning BNM on the first album lead to lower review scores on the second album? So, our null hypothesis will be something like:  \n",
    "&emsp; There is no significant difference between scores of BNM first albums and second albums.  \n",
    "\n",
    "I was initially tempted to use the paired t-test here, since the two albums being scored are being released by the same artist just after some period of time. However, the two groups' scores are not being obtained from the same albums, so we'll use an independent t-test.  \n",
    "  \n",
    "Let's perform a t-test to test the **null hypothesis that there is no statistically significant difference between the scores of BNM first albums and those of subsequent second albums or that the expected values of the scores for these two types of albums is identical.**"
   ]
  },
  {
   "cell_type": "code",
   "execution_count": 6,
   "id": "d62063e7",
   "metadata": {
    "execution": {
     "iopub.execute_input": "2023-03-24T17:55:46.212400Z",
     "iopub.status.busy": "2023-03-24T17:55:46.211227Z",
     "iopub.status.idle": "2023-03-24T17:55:46.222263Z",
     "shell.execute_reply": "2023-03-24T17:55:46.220845Z"
    },
    "papermill": {
     "duration": 0.01963,
     "end_time": "2023-03-24T17:55:46.225056",
     "exception": false,
     "start_time": "2023-03-24T17:55:46.205426",
     "status": "completed"
    },
    "tags": []
   },
   "outputs": [
    {
     "data": {
      "text/plain": [
       "1.8244490157934708e-28"
      ]
     },
     "execution_count": 6,
     "metadata": {},
     "output_type": "execute_result"
    }
   ],
   "source": [
    "stats.ttest_ind(first.score, second.score).pvalue"
   ]
  },
  {
   "cell_type": "markdown",
   "id": "f37b844d",
   "metadata": {
    "papermill": {
     "duration": 0.004221,
     "end_time": "2023-03-24T17:55:46.233896",
     "exception": false,
     "start_time": "2023-03-24T17:55:46.229675",
     "status": "completed"
    },
    "tags": []
   },
   "source": [
    "## Results\n",
    "\n",
    "The minute pvalue (1.82e-28 <<< standard significance threshold of alpha = 0.05) tells us that we should **reject the null hypothesis.**  \n",
    "So, we conclude that there is a significant difference in expected score of a first album awarded best new music and the artist's subsequent album. From our visualizations, we can confidently say that this difference is due to a decrease in score from the first to the second album."
   ]
  }
 ],
 "metadata": {
  "kernelspec": {
   "display_name": "Python 3",
   "language": "python",
   "name": "python3"
  },
  "language_info": {
   "codemirror_mode": {
    "name": "ipython",
    "version": 3
   },
   "file_extension": ".py",
   "mimetype": "text/x-python",
   "name": "python",
   "nbconvert_exporter": "python",
   "pygments_lexer": "ipython3",
   "version": "3.7.12"
  },
  "papermill": {
   "default_parameters": {},
   "duration": 20.494773,
   "end_time": "2023-03-24T17:55:47.061865",
   "environment_variables": {},
   "exception": null,
   "input_path": "__notebook__.ipynb",
   "output_path": "__notebook__.ipynb",
   "parameters": {},
   "start_time": "2023-03-24T17:55:26.567092",
   "version": "2.4.0"
  }
 },
 "nbformat": 4,
 "nbformat_minor": 5
}
