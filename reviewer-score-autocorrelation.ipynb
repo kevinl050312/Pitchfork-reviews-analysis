{
 "cells": [
  {
   "cell_type": "markdown",
   "id": "cf39b810",
   "metadata": {
    "papermill": {
     "duration": 0.004022,
     "end_time": "2023-03-26T21:08:41.584815",
     "exception": false,
     "start_time": "2023-03-26T21:08:41.580793",
     "status": "completed"
    },
    "tags": []
   },
   "source": [
    "## Are a single reviewer's scores autocorrelated?  \n",
    "  \n",
    "Procedure:\n",
    "* Plot, for randomly selected (20? 30?) reviewers with over 20 reviews, their consecutive scores against review #.\n",
    "    * Do the same for another subset's BNM awarding behavior\n",
    "* Look at average time lag between reviews (i.e. if most reviewers review an album on avg every week, we'd let time lag 1 be equivalent to 7 days)\n",
    "* Visualize partial autocorrelations to see which lag is appropriate for autocorr calculations\n",
    "* Compute autocorrelations:\n",
    "    * For each author, compute autocorrelation using determine time lag\n",
    "    * Use 1-sample t to see if on avg the autocorrs are significantly diff from 0"
   ]
  },
  {
   "cell_type": "code",
   "execution_count": 1,
   "id": "799dae81",
   "metadata": {
    "_cell_guid": "b1076dfc-b9ad-4769-8c92-a6c4dae69d19",
    "_uuid": "8f2839f25d086af736a60e9eeb907d3b93b6e0e5",
    "collapsed": true,
    "execution": {
     "iopub.execute_input": "2023-03-26T21:08:41.592860Z",
     "iopub.status.busy": "2023-03-26T21:08:41.592454Z",
     "iopub.status.idle": "2023-03-26T21:08:43.089339Z",
     "shell.execute_reply": "2023-03-26T21:08:43.087805Z"
    },
    "jupyter": {
     "outputs_hidden": true
    },
    "papermill": {
     "duration": 1.504707,
     "end_time": "2023-03-26T21:08:43.092646",
     "exception": false,
     "start_time": "2023-03-26T21:08:41.587939",
     "status": "completed"
    },
    "tags": []
   },
   "outputs": [
    {
     "name": "stdout",
     "output_type": "stream",
     "text": [
      "SQL database connected\n",
      "SQL database connection closed\n"
     ]
    }
   ],
   "source": [
    "import numpy as np\n",
    "import pandas as pd\n",
    "import matplotlib.pyplot as plt\n",
    "import seaborn as sns\n",
    "import sqlite3 as sql\n",
    "import os\n",
    "from scipy.signal import savgol_filter\n",
    "from scipy import stats\n",
    "\n",
    "pd.set_option('precision', 2)\n",
    "np.set_printoptions(precision=2)\n",
    "\n",
    "plt.rcParams['axes.facecolor'] = '0.95'\n",
    "\n",
    "for dirname, _, filenames in os.walk('/kaggle/input'):\n",
    "    for filename in filenames:\n",
    "        db_path = os.path.join(dirname, filename)\n",
    "\n",
    "# connect to SQL database, create connection object to database\n",
    "connection = sql.connect(db_path)\n",
    "print(\"SQL database connected\")\n",
    "\n",
    "table = pd.read_sql(\"SELECT name FROM sqlite_master WHERE type='table'\", connection)\n",
    "\n",
    "reviews = pd.read_sql('SELECT * FROM reviews', connection)\n",
    "genres = pd.read_sql('SELECT * FROM genres', connection)\n",
    "connection.close()\n",
    "print('SQL database connection closed')"
   ]
  },
  {
   "cell_type": "markdown",
   "id": "a1d43be0",
   "metadata": {
    "papermill": {
     "duration": 0.002644,
     "end_time": "2023-03-26T21:08:43.098534",
     "exception": false,
     "start_time": "2023-03-26T21:08:43.095890",
     "status": "completed"
    },
    "tags": []
   },
   "source": [
    "## Cleaning and augmenting data  \n",
    "We're going to be sorting by review publication date, so let's convert it from str format to unix datetime for ease of use:"
   ]
  },
  {
   "cell_type": "code",
   "execution_count": 2,
   "id": "a86d0cd9",
   "metadata": {
    "execution": {
     "iopub.execute_input": "2023-03-26T21:08:43.106663Z",
     "iopub.status.busy": "2023-03-26T21:08:43.106183Z",
     "iopub.status.idle": "2023-03-26T21:08:43.139979Z",
     "shell.execute_reply": "2023-03-26T21:08:43.138630Z"
    },
    "papermill": {
     "duration": 0.04116,
     "end_time": "2023-03-26T21:08:43.142702",
     "exception": false,
     "start_time": "2023-03-26T21:08:43.101542",
     "status": "completed"
    },
    "tags": []
   },
   "outputs": [
    {
     "data": {
      "text/plain": [
       "\"\\n Division by 10^9: \\n We truncate trailing zeros since the int represents seconds elapsed since new year's 1970! \\n However, we leave two trailing zeros (as opposed to dividing by 10^11) since conversion to days later on requires another division by 60*60(*24).\\n\\n\""
      ]
     },
     "execution_count": 2,
     "metadata": {},
     "output_type": "execute_result"
    }
   ],
   "source": [
    "reviews['pub_date'] = pd.to_datetime(reviews.pub_date, format = '%Y-%m-%d')\n",
    "reviews['unix_time'] = reviews.pub_date.view(np.int64) // 10**9  \n",
    "\"\"\"\n",
    " Division by 10^9: \n",
    " We truncate trailing zeros since the int represents seconds elapsed since new year's 1970! \n",
    " However, we leave two trailing zeros (as opposed to dividing by 10^11) since conversion to days later on requires another division by 60*60(*24).\n",
    "\n",
    "\"\"\""
   ]
  },
  {
   "cell_type": "markdown",
   "id": "b5d37835",
   "metadata": {
    "papermill": {
     "duration": 0.003221,
     "end_time": "2023-03-26T21:08:43.149155",
     "exception": false,
     "start_time": "2023-03-26T21:08:43.145934",
     "status": "completed"
    },
    "tags": []
   },
   "source": [
    "The subsequent analyses will require us to augment the reviews data with each review's number according to the author's history."
   ]
  },
  {
   "cell_type": "code",
   "execution_count": 3,
   "id": "21df942a",
   "metadata": {
    "execution": {
     "iopub.execute_input": "2023-03-26T21:08:43.157923Z",
     "iopub.status.busy": "2023-03-26T21:08:43.157200Z",
     "iopub.status.idle": "2023-03-26T21:08:50.581761Z",
     "shell.execute_reply": "2023-03-26T21:08:50.579168Z"
    },
    "papermill": {
     "duration": 7.433324,
     "end_time": "2023-03-26T21:08:50.585648",
     "exception": false,
     "start_time": "2023-03-26T21:08:43.152324",
     "status": "completed"
    },
    "tags": []
   },
   "outputs": [],
   "source": [
    "reviews_authns = reviews.copy() # review dataframe, augmented with each review's 'number' i.e. its chronology in author's review history\n",
    "reviews_authns['review_num'] = pd.Series(index=reviews_authns.index, dtype='int64')\n",
    "reviews_authns['days_since_prev'] = pd.Series(index=reviews_authns.index, dtype='int64')\n",
    "\n",
    "for a, rows in reviews_authns.groupby('author'):\n",
    "    ordered = rows.sort_values(by='unix_time')\n",
    "    n = ordered.shape[0]\n",
    "    \n",
    "    # add review number per author\n",
    "    nums = list(range(1, n+1))\n",
    "    reviews_authns.at[rows.index, 'review_num'] = nums\n",
    "    \n",
    "    # add days since author's last review\n",
    "    days = np.zeros(n)\n",
    "    for i in nums[1:]:\n",
    "        t_curr = ordered.iloc[i-1].unix_time\n",
    "        t_prev = ordered.iloc[i-2].unix_time\n",
    "        days[i-1] = (t_curr - t_prev) / (60*60*24) # convert difference from seconds to days\n",
    "        \n",
    "    days[0] = np.nan  # first reviews will not have a 'days since' value\n",
    "    reviews_authns.loc[ordered.index, 'days_since_prev'] = days"
   ]
  },
  {
   "cell_type": "markdown",
   "id": "405d3547",
   "metadata": {
    "papermill": {
     "duration": 0.002991,
     "end_time": "2023-03-26T21:08:50.592569",
     "exception": false,
     "start_time": "2023-03-26T21:08:50.589578",
     "status": "completed"
    },
    "tags": []
   },
   "source": [
    "Let's take a coarse look at the average reviewers' scoring behavior over the course of 20 reviews. We'll randomly choose 5 reviewers with 20 or more reviews from the dataset, then plot against the review number their a) scores and b) best new music awards."
   ]
  },
  {
   "cell_type": "code",
   "execution_count": null,
   "id": "0c80aff6",
   "metadata": {
    "papermill": {
     "duration": 0.002802,
     "end_time": "2023-03-26T21:08:50.598542",
     "exception": false,
     "start_time": "2023-03-26T21:08:50.595740",
     "status": "completed"
    },
    "tags": []
   },
   "outputs": [],
   "source": []
  }
 ],
 "metadata": {
  "kernelspec": {
   "display_name": "Python 3",
   "language": "python",
   "name": "python3"
  },
  "language_info": {
   "codemirror_mode": {
    "name": "ipython",
    "version": 3
   },
   "file_extension": ".py",
   "mimetype": "text/x-python",
   "name": "python",
   "nbconvert_exporter": "python",
   "pygments_lexer": "ipython3",
   "version": "3.7.12"
  },
  "papermill": {
   "default_parameters": {},
   "duration": 21.013159,
   "end_time": "2023-03-26T21:08:51.426830",
   "environment_variables": {},
   "exception": null,
   "input_path": "__notebook__.ipynb",
   "output_path": "__notebook__.ipynb",
   "parameters": {},
   "start_time": "2023-03-26T21:08:30.413671",
   "version": "2.4.0"
  }
 },
 "nbformat": 4,
 "nbformat_minor": 5
}
